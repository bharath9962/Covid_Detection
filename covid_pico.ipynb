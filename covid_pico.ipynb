{
  "metadata": {
    "kernelspec": {
      "language": "python",
      "display_name": "Python 3",
      "name": "python3"
    },
    "language_info": {
      "pygments_lexer": "ipython3",
      "nbconvert_exporter": "python",
      "version": "3.6.4",
      "file_extension": ".py",
      "codemirror_mode": {
        "name": "ipython",
        "version": 3
      },
      "name": "python",
      "mimetype": "text/x-python"
    },
    "colab": {
      "provenance": []
    }
  },
  "nbformat_minor": 0,
  "nbformat": 4,
  "cells": [
    {
      "cell_type": "code",
      "source": [
        "import numpy as np\n",
        "import pandas as pd\n",
        "import plotly.express as px\n",
        "import missingno as msno\n",
        "import scipy.stats as stats\n",
        "from scipy.stats import chi2_contingency\n",
        "from sklearn.model_selection import train_test_split\n",
        "from imblearn.under_sampling import RandomUnderSampler \n",
        "from sklearn.model_selection import GridSearchCV\n",
        "\n",
        "from sklearn.metrics import classification_report, confusion_matrix, ConfusionMatrixDisplay, recall_score, accuracy_score, precision_score, f1_score\n",
        "import pickle"
      ],
      "metadata": {
        "execution": {
          "iopub.status.busy": "2022-05-23T14:10:22.277899Z",
          "iopub.execute_input": "2022-05-23T14:10:22.278803Z",
          "iopub.status.idle": "2022-05-23T14:10:25.493257Z",
          "shell.execute_reply.started": "2022-05-23T14:10:22.278657Z",
          "shell.execute_reply": "2022-05-23T14:10:25.492425Z"
        },
        "trusted": true,
        "id": "psSrFSZsjvby"
      },
      "execution_count": null,
      "outputs": []
    },
    {
      "cell_type": "code",
      "source": [
        "!pip install opendatasets\n",
        "import opendatasets as od\n",
        "od.download('https://www.kaggle.com/datasets/mykeysid10/covid19-dataset-for-year-2020/code?select=covid_data_2020-2021.csv')"
      ],
      "metadata": {
        "colab": {
          "base_uri": "https://localhost:8080/"
        },
        "id": "OLhakHD8j_Gm",
        "outputId": "9d50d80f-7909-4115-b452-93e1da46d565"
      },
      "execution_count": null,
      "outputs": [
        {
          "output_type": "stream",
          "name": "stdout",
          "text": [
            "Looking in indexes: https://pypi.org/simple, https://us-python.pkg.dev/colab-wheels/public/simple/\n",
            "Collecting opendatasets\n",
            "  Downloading opendatasets-0.1.22-py3-none-any.whl (15 kB)\n",
            "Requirement already satisfied: click in /usr/local/lib/python3.9/dist-packages (from opendatasets) (8.1.3)\n",
            "Requirement already satisfied: tqdm in /usr/local/lib/python3.9/dist-packages (from opendatasets) (4.65.0)\n",
            "Requirement already satisfied: kaggle in /usr/local/lib/python3.9/dist-packages (from opendatasets) (1.5.13)\n",
            "Requirement already satisfied: requests in /usr/local/lib/python3.9/dist-packages (from kaggle->opendatasets) (2.27.1)\n",
            "Requirement already satisfied: python-slugify in /usr/local/lib/python3.9/dist-packages (from kaggle->opendatasets) (8.0.1)\n",
            "Requirement already satisfied: urllib3 in /usr/local/lib/python3.9/dist-packages (from kaggle->opendatasets) (1.26.15)\n",
            "Requirement already satisfied: certifi in /usr/local/lib/python3.9/dist-packages (from kaggle->opendatasets) (2022.12.7)\n",
            "Requirement already satisfied: python-dateutil in /usr/local/lib/python3.9/dist-packages (from kaggle->opendatasets) (2.8.2)\n",
            "Requirement already satisfied: six>=1.10 in /usr/local/lib/python3.9/dist-packages (from kaggle->opendatasets) (1.16.0)\n",
            "Requirement already satisfied: text-unidecode>=1.3 in /usr/local/lib/python3.9/dist-packages (from python-slugify->kaggle->opendatasets) (1.3)\n",
            "Requirement already satisfied: charset-normalizer~=2.0.0 in /usr/local/lib/python3.9/dist-packages (from requests->kaggle->opendatasets) (2.0.12)\n",
            "Requirement already satisfied: idna<4,>=2.5 in /usr/local/lib/python3.9/dist-packages (from requests->kaggle->opendatasets) (3.4)\n",
            "Installing collected packages: opendatasets\n",
            "Successfully installed opendatasets-0.1.22\n",
            "Please provide your Kaggle credentials to download this dataset. Learn more: http://bit.ly/kaggle-creds\n",
            "Your Kaggle username: gaurav065\n",
            "Your Kaggle Key: ··········\n",
            "Downloading covid19-dataset-for-year-2020.zip to ./covid19-dataset-for-year-2020\n"
          ]
        },
        {
          "output_type": "stream",
          "name": "stderr",
          "text": [
            "100%|██████████| 8.02M/8.02M [00:00<00:00, 75.8MB/s]"
          ]
        },
        {
          "output_type": "stream",
          "name": "stdout",
          "text": [
            "\n"
          ]
        },
        {
          "output_type": "stream",
          "name": "stderr",
          "text": [
            "\n"
          ]
        }
      ]
    },
    {
      "cell_type": "code",
      "source": [
        "data = pd.read_csv(\"/content/covid19-dataset-for-year-2020/covid_data_2020-2021.csv\")\n",
        "data.head()"
      ],
      "metadata": {
        "execution": {
          "iopub.status.busy": "2022-05-23T14:10:25.495194Z",
          "iopub.execute_input": "2022-05-23T14:10:25.495416Z",
          "iopub.status.idle": "2022-05-23T14:10:32.790791Z",
          "shell.execute_reply.started": "2022-05-23T14:10:25.495388Z",
          "shell.execute_reply": "2022-05-23T14:10:32.789966Z"
        },
        "trusted": true,
        "colab": {
          "base_uri": "https://localhost:8080/",
          "height": 206
        },
        "id": "EjeFnaAwjvb0",
        "outputId": "6bc50cb1-2daf-4ef1-c6f2-81807bd33eec"
      },
      "execution_count": null,
      "outputs": [
        {
          "output_type": "execute_result",
          "data": {
            "text/plain": [
              "    test_date  cough  fever  sore_throat  shortness_of_breath  head_ache  \\\n",
              "0  2021-10-11      0      0            0                    0          0   \n",
              "1  2021-10-11      0      0            0                    0          0   \n",
              "2  2021-10-11      0      0            0                    0          0   \n",
              "3  2021-10-11      0      0            0                    0          0   \n",
              "4  2021-10-11      0      0            0                    0          0   \n",
              "\n",
              "  corona_result age_60_and_above  gender test_indication  \n",
              "0      Negative              Yes  female           Other  \n",
              "1      Negative              Yes    male           Other  \n",
              "2      Negative               No  female           Other  \n",
              "3      Negative              Yes  female           Other  \n",
              "4      Negative              Yes  female           Other  "
            ],
            "text/html": [
              "\n",
              "  <div id=\"df-6ba3a651-175e-4a63-979e-da359245b41e\">\n",
              "    <div class=\"colab-df-container\">\n",
              "      <div>\n",
              "<style scoped>\n",
              "    .dataframe tbody tr th:only-of-type {\n",
              "        vertical-align: middle;\n",
              "    }\n",
              "\n",
              "    .dataframe tbody tr th {\n",
              "        vertical-align: top;\n",
              "    }\n",
              "\n",
              "    .dataframe thead th {\n",
              "        text-align: right;\n",
              "    }\n",
              "</style>\n",
              "<table border=\"1\" class=\"dataframe\">\n",
              "  <thead>\n",
              "    <tr style=\"text-align: right;\">\n",
              "      <th></th>\n",
              "      <th>test_date</th>\n",
              "      <th>cough</th>\n",
              "      <th>fever</th>\n",
              "      <th>sore_throat</th>\n",
              "      <th>shortness_of_breath</th>\n",
              "      <th>head_ache</th>\n",
              "      <th>corona_result</th>\n",
              "      <th>age_60_and_above</th>\n",
              "      <th>gender</th>\n",
              "      <th>test_indication</th>\n",
              "    </tr>\n",
              "  </thead>\n",
              "  <tbody>\n",
              "    <tr>\n",
              "      <th>0</th>\n",
              "      <td>2021-10-11</td>\n",
              "      <td>0</td>\n",
              "      <td>0</td>\n",
              "      <td>0</td>\n",
              "      <td>0</td>\n",
              "      <td>0</td>\n",
              "      <td>Negative</td>\n",
              "      <td>Yes</td>\n",
              "      <td>female</td>\n",
              "      <td>Other</td>\n",
              "    </tr>\n",
              "    <tr>\n",
              "      <th>1</th>\n",
              "      <td>2021-10-11</td>\n",
              "      <td>0</td>\n",
              "      <td>0</td>\n",
              "      <td>0</td>\n",
              "      <td>0</td>\n",
              "      <td>0</td>\n",
              "      <td>Negative</td>\n",
              "      <td>Yes</td>\n",
              "      <td>male</td>\n",
              "      <td>Other</td>\n",
              "    </tr>\n",
              "    <tr>\n",
              "      <th>2</th>\n",
              "      <td>2021-10-11</td>\n",
              "      <td>0</td>\n",
              "      <td>0</td>\n",
              "      <td>0</td>\n",
              "      <td>0</td>\n",
              "      <td>0</td>\n",
              "      <td>Negative</td>\n",
              "      <td>No</td>\n",
              "      <td>female</td>\n",
              "      <td>Other</td>\n",
              "    </tr>\n",
              "    <tr>\n",
              "      <th>3</th>\n",
              "      <td>2021-10-11</td>\n",
              "      <td>0</td>\n",
              "      <td>0</td>\n",
              "      <td>0</td>\n",
              "      <td>0</td>\n",
              "      <td>0</td>\n",
              "      <td>Negative</td>\n",
              "      <td>Yes</td>\n",
              "      <td>female</td>\n",
              "      <td>Other</td>\n",
              "    </tr>\n",
              "    <tr>\n",
              "      <th>4</th>\n",
              "      <td>2021-10-11</td>\n",
              "      <td>0</td>\n",
              "      <td>0</td>\n",
              "      <td>0</td>\n",
              "      <td>0</td>\n",
              "      <td>0</td>\n",
              "      <td>Negative</td>\n",
              "      <td>Yes</td>\n",
              "      <td>female</td>\n",
              "      <td>Other</td>\n",
              "    </tr>\n",
              "  </tbody>\n",
              "</table>\n",
              "</div>\n",
              "      <button class=\"colab-df-convert\" onclick=\"convertToInteractive('df-6ba3a651-175e-4a63-979e-da359245b41e')\"\n",
              "              title=\"Convert this dataframe to an interactive table.\"\n",
              "              style=\"display:none;\">\n",
              "        \n",
              "  <svg xmlns=\"http://www.w3.org/2000/svg\" height=\"24px\"viewBox=\"0 0 24 24\"\n",
              "       width=\"24px\">\n",
              "    <path d=\"M0 0h24v24H0V0z\" fill=\"none\"/>\n",
              "    <path d=\"M18.56 5.44l.94 2.06.94-2.06 2.06-.94-2.06-.94-.94-2.06-.94 2.06-2.06.94zm-11 1L8.5 8.5l.94-2.06 2.06-.94-2.06-.94L8.5 2.5l-.94 2.06-2.06.94zm10 10l.94 2.06.94-2.06 2.06-.94-2.06-.94-.94-2.06-.94 2.06-2.06.94z\"/><path d=\"M17.41 7.96l-1.37-1.37c-.4-.4-.92-.59-1.43-.59-.52 0-1.04.2-1.43.59L10.3 9.45l-7.72 7.72c-.78.78-.78 2.05 0 2.83L4 21.41c.39.39.9.59 1.41.59.51 0 1.02-.2 1.41-.59l7.78-7.78 2.81-2.81c.8-.78.8-2.07 0-2.86zM5.41 20L4 18.59l7.72-7.72 1.47 1.35L5.41 20z\"/>\n",
              "  </svg>\n",
              "      </button>\n",
              "      \n",
              "  <style>\n",
              "    .colab-df-container {\n",
              "      display:flex;\n",
              "      flex-wrap:wrap;\n",
              "      gap: 12px;\n",
              "    }\n",
              "\n",
              "    .colab-df-convert {\n",
              "      background-color: #E8F0FE;\n",
              "      border: none;\n",
              "      border-radius: 50%;\n",
              "      cursor: pointer;\n",
              "      display: none;\n",
              "      fill: #1967D2;\n",
              "      height: 32px;\n",
              "      padding: 0 0 0 0;\n",
              "      width: 32px;\n",
              "    }\n",
              "\n",
              "    .colab-df-convert:hover {\n",
              "      background-color: #E2EBFA;\n",
              "      box-shadow: 0px 1px 2px rgba(60, 64, 67, 0.3), 0px 1px 3px 1px rgba(60, 64, 67, 0.15);\n",
              "      fill: #174EA6;\n",
              "    }\n",
              "\n",
              "    [theme=dark] .colab-df-convert {\n",
              "      background-color: #3B4455;\n",
              "      fill: #D2E3FC;\n",
              "    }\n",
              "\n",
              "    [theme=dark] .colab-df-convert:hover {\n",
              "      background-color: #434B5C;\n",
              "      box-shadow: 0px 1px 3px 1px rgba(0, 0, 0, 0.15);\n",
              "      filter: drop-shadow(0px 1px 2px rgba(0, 0, 0, 0.3));\n",
              "      fill: #FFFFFF;\n",
              "    }\n",
              "  </style>\n",
              "\n",
              "      <script>\n",
              "        const buttonEl =\n",
              "          document.querySelector('#df-6ba3a651-175e-4a63-979e-da359245b41e button.colab-df-convert');\n",
              "        buttonEl.style.display =\n",
              "          google.colab.kernel.accessAllowed ? 'block' : 'none';\n",
              "\n",
              "        async function convertToInteractive(key) {\n",
              "          const element = document.querySelector('#df-6ba3a651-175e-4a63-979e-da359245b41e');\n",
              "          const dataTable =\n",
              "            await google.colab.kernel.invokeFunction('convertToInteractive',\n",
              "                                                     [key], {});\n",
              "          if (!dataTable) return;\n",
              "\n",
              "          const docLinkHtml = 'Like what you see? Visit the ' +\n",
              "            '<a target=\"_blank\" href=https://colab.research.google.com/notebooks/data_table.ipynb>data table notebook</a>'\n",
              "            + ' to learn more about interactive tables.';\n",
              "          element.innerHTML = '';\n",
              "          dataTable['output_type'] = 'display_data';\n",
              "          await google.colab.output.renderOutput(dataTable, element);\n",
              "          const docLink = document.createElement('div');\n",
              "          docLink.innerHTML = docLinkHtml;\n",
              "          element.appendChild(docLink);\n",
              "        }\n",
              "      </script>\n",
              "    </div>\n",
              "  </div>\n",
              "  "
            ]
          },
          "metadata": {},
          "execution_count": 4
        }
      ]
    },
    {
      "cell_type": "code",
      "source": [
        "data.info()"
      ],
      "metadata": {
        "execution": {
          "iopub.status.busy": "2022-05-23T14:10:32.792091Z",
          "iopub.execute_input": "2022-05-23T14:10:32.792305Z",
          "iopub.status.idle": "2022-05-23T14:10:32.815655Z",
          "shell.execute_reply.started": "2022-05-23T14:10:32.792279Z",
          "shell.execute_reply": "2022-05-23T14:10:32.814973Z"
        },
        "trusted": true,
        "id": "FL0rN0oajvb1"
      },
      "execution_count": null,
      "outputs": []
    },
    {
      "cell_type": "code",
      "source": [
        "\n",
        "def show(data):\n",
        "  for i in data.columns[1:]:\n",
        "    print(\"Feature: {} with {} Levels\".format(i,data[i].unique()))\n",
        "\n",
        "show(data)"
      ],
      "metadata": {
        "execution": {
          "iopub.status.busy": "2022-05-23T14:10:32.817291Z",
          "iopub.execute_input": "2022-05-23T14:10:32.817899Z",
          "iopub.status.idle": "2022-05-23T14:10:34.73916Z",
          "shell.execute_reply.started": "2022-05-23T14:10:32.81786Z",
          "shell.execute_reply": "2022-05-23T14:10:34.738291Z"
        },
        "trusted": true,
        "colab": {
          "base_uri": "https://localhost:8080/"
        },
        "id": "QAVQYwYMjvb1",
        "outputId": "fd801f4b-378b-4c27-abc3-cb466c23ef0c"
      },
      "execution_count": null,
      "outputs": [
        {
          "output_type": "stream",
          "name": "stdout",
          "text": [
            "Feature: cough with [0 1] Levels\n",
            "Feature: fever with [0 1] Levels\n",
            "Feature: sore_throat with [0 1] Levels\n",
            "Feature: shortness_of_breath with [0 1] Levels\n",
            "Feature: head_ache with [0 1] Levels\n",
            "Feature: corona_result with ['Negative' 'Positive'] Levels\n",
            "Feature: age_60_and_above with ['Yes' 'No'] Levels\n",
            "Feature: gender with ['female' 'male'] Levels\n",
            "Feature: test_indication with ['Other' 'Contact with confirmed' 'Abroad'] Levels\n"
          ]
        }
      ]
    },
    {
      "cell_type": "code",
      "source": [
        "data.isnull().sum()"
      ],
      "metadata": {
        "execution": {
          "iopub.status.busy": "2022-05-23T14:10:34.740661Z",
          "iopub.execute_input": "2022-05-23T14:10:34.740997Z",
          "iopub.status.idle": "2022-05-23T14:10:37.897658Z",
          "shell.execute_reply.started": "2022-05-23T14:10:34.740932Z",
          "shell.execute_reply": "2022-05-23T14:10:37.896758Z"
        },
        "trusted": true,
        "colab": {
          "base_uri": "https://localhost:8080/"
        },
        "id": "HkYO99XYjvb1",
        "outputId": "e7143c4b-250d-4687-feb8-0a7882d19f6e"
      },
      "execution_count": null,
      "outputs": [
        {
          "output_type": "execute_result",
          "data": {
            "text/plain": [
              "test_date              0\n",
              "cough                  0\n",
              "fever                  0\n",
              "sore_throat            0\n",
              "shortness_of_breath    0\n",
              "head_ache              0\n",
              "corona_result          0\n",
              "age_60_and_above       0\n",
              "gender                 0\n",
              "test_indication        0\n",
              "dtype: int64"
            ]
          },
          "metadata": {},
          "execution_count": 6
        }
      ]
    },
    {
      "cell_type": "code",
      "source": [
        "# Label Encoding\n",
        "\n",
        "data['corona_result'] = data['corona_result'].map({'Negative': 0, 'Positive': 1})\n",
        "data['gender'] = data['gender'].map({'female': 0, 'male': 1})\n",
        "data['age_60_and_above'] = data['age_60_and_above'].map({'No': 0, 'Yes': 1})\n",
        "\n",
        "# One Hot Encoding \n",
        "\n",
        "data['test_indication'] = data['test_indication'].map({'Abroad': 'abroad', 'Contact with confirmed': 'contact_with_covid_positive_patient', 'Other': 'other'})\n",
        "data = pd.get_dummies(data, columns = ['test_indication'])"
      ],
      "metadata": {
        "execution": {
          "iopub.status.busy": "2022-05-23T14:10:37.899631Z",
          "iopub.execute_input": "2022-05-23T14:10:37.899869Z",
          "iopub.status.idle": "2022-05-23T14:10:46.553688Z",
          "shell.execute_reply.started": "2022-05-23T14:10:37.89984Z",
          "shell.execute_reply": "2022-05-23T14:10:46.550083Z"
        },
        "trusted": true,
        "id": "dVhG3q9Ejvb2"
      },
      "execution_count": null,
      "outputs": []
    },
    {
      "cell_type": "code",
      "source": [
        "# Renaming the encoded feature names & dropping test_indication_other & test_date feature\n",
        "\n",
        "data.rename({'test_indication_abroad': 'abroad',\n",
        "             'test_indication_contact_with_covid_positive_patient': 'contact_with_covid_positive_patient'},\n",
        "             axis='columns', inplace = True)\n",
        "\n",
        "data.drop(['test_date','test_indication_other'], axis = 1, inplace = True)\n",
        "data.head()"
      ],
      "metadata": {
        "execution": {
          "iopub.status.busy": "2022-05-23T14:10:46.560226Z",
          "iopub.execute_input": "2022-05-23T14:10:46.562666Z",
          "iopub.status.idle": "2022-05-23T14:10:46.940543Z",
          "shell.execute_reply.started": "2022-05-23T14:10:46.562607Z",
          "shell.execute_reply": "2022-05-23T14:10:46.939348Z"
        },
        "trusted": true,
        "colab": {
          "base_uri": "https://localhost:8080/",
          "height": 206
        },
        "id": "ZKcvxQvDjvb2",
        "outputId": "42973e87-2bd3-47a0-8b5a-7c09ea02982a"
      },
      "execution_count": null,
      "outputs": [
        {
          "output_type": "execute_result",
          "data": {
            "text/plain": [
              "   cough  fever  sore_throat  shortness_of_breath  head_ache  corona_result  \\\n",
              "0      0      0            0                    0          0              0   \n",
              "1      0      0            0                    0          0              0   \n",
              "2      0      0            0                    0          0              0   \n",
              "3      0      0            0                    0          0              0   \n",
              "4      0      0            0                    0          0              0   \n",
              "\n",
              "   age_60_and_above  gender  abroad  contact_with_covid_positive_patient  \n",
              "0                 1       0       0                                    0  \n",
              "1                 1       1       0                                    0  \n",
              "2                 0       0       0                                    0  \n",
              "3                 1       0       0                                    0  \n",
              "4                 1       0       0                                    0  "
            ],
            "text/html": [
              "\n",
              "  <div id=\"df-259ee38f-1bb2-4c9c-aaf9-9426b531284e\">\n",
              "    <div class=\"colab-df-container\">\n",
              "      <div>\n",
              "<style scoped>\n",
              "    .dataframe tbody tr th:only-of-type {\n",
              "        vertical-align: middle;\n",
              "    }\n",
              "\n",
              "    .dataframe tbody tr th {\n",
              "        vertical-align: top;\n",
              "    }\n",
              "\n",
              "    .dataframe thead th {\n",
              "        text-align: right;\n",
              "    }\n",
              "</style>\n",
              "<table border=\"1\" class=\"dataframe\">\n",
              "  <thead>\n",
              "    <tr style=\"text-align: right;\">\n",
              "      <th></th>\n",
              "      <th>cough</th>\n",
              "      <th>fever</th>\n",
              "      <th>sore_throat</th>\n",
              "      <th>shortness_of_breath</th>\n",
              "      <th>head_ache</th>\n",
              "      <th>corona_result</th>\n",
              "      <th>age_60_and_above</th>\n",
              "      <th>gender</th>\n",
              "      <th>abroad</th>\n",
              "      <th>contact_with_covid_positive_patient</th>\n",
              "    </tr>\n",
              "  </thead>\n",
              "  <tbody>\n",
              "    <tr>\n",
              "      <th>0</th>\n",
              "      <td>0</td>\n",
              "      <td>0</td>\n",
              "      <td>0</td>\n",
              "      <td>0</td>\n",
              "      <td>0</td>\n",
              "      <td>0</td>\n",
              "      <td>1</td>\n",
              "      <td>0</td>\n",
              "      <td>0</td>\n",
              "      <td>0</td>\n",
              "    </tr>\n",
              "    <tr>\n",
              "      <th>1</th>\n",
              "      <td>0</td>\n",
              "      <td>0</td>\n",
              "      <td>0</td>\n",
              "      <td>0</td>\n",
              "      <td>0</td>\n",
              "      <td>0</td>\n",
              "      <td>1</td>\n",
              "      <td>1</td>\n",
              "      <td>0</td>\n",
              "      <td>0</td>\n",
              "    </tr>\n",
              "    <tr>\n",
              "      <th>2</th>\n",
              "      <td>0</td>\n",
              "      <td>0</td>\n",
              "      <td>0</td>\n",
              "      <td>0</td>\n",
              "      <td>0</td>\n",
              "      <td>0</td>\n",
              "      <td>0</td>\n",
              "      <td>0</td>\n",
              "      <td>0</td>\n",
              "      <td>0</td>\n",
              "    </tr>\n",
              "    <tr>\n",
              "      <th>3</th>\n",
              "      <td>0</td>\n",
              "      <td>0</td>\n",
              "      <td>0</td>\n",
              "      <td>0</td>\n",
              "      <td>0</td>\n",
              "      <td>0</td>\n",
              "      <td>1</td>\n",
              "      <td>0</td>\n",
              "      <td>0</td>\n",
              "      <td>0</td>\n",
              "    </tr>\n",
              "    <tr>\n",
              "      <th>4</th>\n",
              "      <td>0</td>\n",
              "      <td>0</td>\n",
              "      <td>0</td>\n",
              "      <td>0</td>\n",
              "      <td>0</td>\n",
              "      <td>0</td>\n",
              "      <td>1</td>\n",
              "      <td>0</td>\n",
              "      <td>0</td>\n",
              "      <td>0</td>\n",
              "    </tr>\n",
              "  </tbody>\n",
              "</table>\n",
              "</div>\n",
              "      <button class=\"colab-df-convert\" onclick=\"convertToInteractive('df-259ee38f-1bb2-4c9c-aaf9-9426b531284e')\"\n",
              "              title=\"Convert this dataframe to an interactive table.\"\n",
              "              style=\"display:none;\">\n",
              "        \n",
              "  <svg xmlns=\"http://www.w3.org/2000/svg\" height=\"24px\"viewBox=\"0 0 24 24\"\n",
              "       width=\"24px\">\n",
              "    <path d=\"M0 0h24v24H0V0z\" fill=\"none\"/>\n",
              "    <path d=\"M18.56 5.44l.94 2.06.94-2.06 2.06-.94-2.06-.94-.94-2.06-.94 2.06-2.06.94zm-11 1L8.5 8.5l.94-2.06 2.06-.94-2.06-.94L8.5 2.5l-.94 2.06-2.06.94zm10 10l.94 2.06.94-2.06 2.06-.94-2.06-.94-.94-2.06-.94 2.06-2.06.94z\"/><path d=\"M17.41 7.96l-1.37-1.37c-.4-.4-.92-.59-1.43-.59-.52 0-1.04.2-1.43.59L10.3 9.45l-7.72 7.72c-.78.78-.78 2.05 0 2.83L4 21.41c.39.39.9.59 1.41.59.51 0 1.02-.2 1.41-.59l7.78-7.78 2.81-2.81c.8-.78.8-2.07 0-2.86zM5.41 20L4 18.59l7.72-7.72 1.47 1.35L5.41 20z\"/>\n",
              "  </svg>\n",
              "      </button>\n",
              "      \n",
              "  <style>\n",
              "    .colab-df-container {\n",
              "      display:flex;\n",
              "      flex-wrap:wrap;\n",
              "      gap: 12px;\n",
              "    }\n",
              "\n",
              "    .colab-df-convert {\n",
              "      background-color: #E8F0FE;\n",
              "      border: none;\n",
              "      border-radius: 50%;\n",
              "      cursor: pointer;\n",
              "      display: none;\n",
              "      fill: #1967D2;\n",
              "      height: 32px;\n",
              "      padding: 0 0 0 0;\n",
              "      width: 32px;\n",
              "    }\n",
              "\n",
              "    .colab-df-convert:hover {\n",
              "      background-color: #E2EBFA;\n",
              "      box-shadow: 0px 1px 2px rgba(60, 64, 67, 0.3), 0px 1px 3px 1px rgba(60, 64, 67, 0.15);\n",
              "      fill: #174EA6;\n",
              "    }\n",
              "\n",
              "    [theme=dark] .colab-df-convert {\n",
              "      background-color: #3B4455;\n",
              "      fill: #D2E3FC;\n",
              "    }\n",
              "\n",
              "    [theme=dark] .colab-df-convert:hover {\n",
              "      background-color: #434B5C;\n",
              "      box-shadow: 0px 1px 3px 1px rgba(0, 0, 0, 0.15);\n",
              "      filter: drop-shadow(0px 1px 2px rgba(0, 0, 0, 0.3));\n",
              "      fill: #FFFFFF;\n",
              "    }\n",
              "  </style>\n",
              "\n",
              "      <script>\n",
              "        const buttonEl =\n",
              "          document.querySelector('#df-259ee38f-1bb2-4c9c-aaf9-9426b531284e button.colab-df-convert');\n",
              "        buttonEl.style.display =\n",
              "          google.colab.kernel.accessAllowed ? 'block' : 'none';\n",
              "\n",
              "        async function convertToInteractive(key) {\n",
              "          const element = document.querySelector('#df-259ee38f-1bb2-4c9c-aaf9-9426b531284e');\n",
              "          const dataTable =\n",
              "            await google.colab.kernel.invokeFunction('convertToInteractive',\n",
              "                                                     [key], {});\n",
              "          if (!dataTable) return;\n",
              "\n",
              "          const docLinkHtml = 'Like what you see? Visit the ' +\n",
              "            '<a target=\"_blank\" href=https://colab.research.google.com/notebooks/data_table.ipynb>data table notebook</a>'\n",
              "            + ' to learn more about interactive tables.';\n",
              "          element.innerHTML = '';\n",
              "          dataTable['output_type'] = 'display_data';\n",
              "          await google.colab.output.renderOutput(dataTable, element);\n",
              "          const docLink = document.createElement('div');\n",
              "          docLink.innerHTML = docLinkHtml;\n",
              "          element.appendChild(docLink);\n",
              "        }\n",
              "      </script>\n",
              "    </div>\n",
              "  </div>\n",
              "  "
            ]
          },
          "metadata": {},
          "execution_count": 8
        }
      ]
    },
    {
      "cell_type": "code",
      "source": [
        "# Creating feature risk coeficient\n",
        "\n",
        "data['risk_coef'] = data['cough']*0.1 + data['fever']*0.2 + data['sore_throat']*0.1 + data['shortness_of_breath']*0.1 + data['head_ache']*0.1 + data['age_60_and_above']*0.1 + data['abroad']*0.1 + data['contact_with_covid_positive_patient']*0.2\n",
        "data.head()"
      ],
      "metadata": {
        "execution": {
          "iopub.status.busy": "2022-05-23T14:10:46.942082Z",
          "iopub.execute_input": "2022-05-23T14:10:46.942925Z",
          "iopub.status.idle": "2022-05-23T14:10:47.383863Z",
          "shell.execute_reply.started": "2022-05-23T14:10:46.942874Z",
          "shell.execute_reply": "2022-05-23T14:10:47.382866Z"
        },
        "trusted": true,
        "colab": {
          "base_uri": "https://localhost:8080/",
          "height": 206
        },
        "id": "eo7y6JuWjvb2",
        "outputId": "c8db1f2f-d618-4c40-f119-b9f68467ec9b"
      },
      "execution_count": null,
      "outputs": [
        {
          "output_type": "execute_result",
          "data": {
            "text/plain": [
              "   cough  fever  sore_throat  shortness_of_breath  head_ache  corona_result  \\\n",
              "0      0      0            0                    0          0              0   \n",
              "1      0      0            0                    0          0              0   \n",
              "2      0      0            0                    0          0              0   \n",
              "3      0      0            0                    0          0              0   \n",
              "4      0      0            0                    0          0              0   \n",
              "\n",
              "   age_60_and_above  gender  abroad  contact_with_covid_positive_patient  \\\n",
              "0                 1       0       0                                    0   \n",
              "1                 1       1       0                                    0   \n",
              "2                 0       0       0                                    0   \n",
              "3                 1       0       0                                    0   \n",
              "4                 1       0       0                                    0   \n",
              "\n",
              "   risk_coef  \n",
              "0        0.1  \n",
              "1        0.1  \n",
              "2        0.0  \n",
              "3        0.1  \n",
              "4        0.1  "
            ],
            "text/html": [
              "\n",
              "  <div id=\"df-52450d13-bb39-4ce3-a8be-9480d9760dda\">\n",
              "    <div class=\"colab-df-container\">\n",
              "      <div>\n",
              "<style scoped>\n",
              "    .dataframe tbody tr th:only-of-type {\n",
              "        vertical-align: middle;\n",
              "    }\n",
              "\n",
              "    .dataframe tbody tr th {\n",
              "        vertical-align: top;\n",
              "    }\n",
              "\n",
              "    .dataframe thead th {\n",
              "        text-align: right;\n",
              "    }\n",
              "</style>\n",
              "<table border=\"1\" class=\"dataframe\">\n",
              "  <thead>\n",
              "    <tr style=\"text-align: right;\">\n",
              "      <th></th>\n",
              "      <th>cough</th>\n",
              "      <th>fever</th>\n",
              "      <th>sore_throat</th>\n",
              "      <th>shortness_of_breath</th>\n",
              "      <th>head_ache</th>\n",
              "      <th>corona_result</th>\n",
              "      <th>age_60_and_above</th>\n",
              "      <th>gender</th>\n",
              "      <th>abroad</th>\n",
              "      <th>contact_with_covid_positive_patient</th>\n",
              "      <th>risk_coef</th>\n",
              "    </tr>\n",
              "  </thead>\n",
              "  <tbody>\n",
              "    <tr>\n",
              "      <th>0</th>\n",
              "      <td>0</td>\n",
              "      <td>0</td>\n",
              "      <td>0</td>\n",
              "      <td>0</td>\n",
              "      <td>0</td>\n",
              "      <td>0</td>\n",
              "      <td>1</td>\n",
              "      <td>0</td>\n",
              "      <td>0</td>\n",
              "      <td>0</td>\n",
              "      <td>0.1</td>\n",
              "    </tr>\n",
              "    <tr>\n",
              "      <th>1</th>\n",
              "      <td>0</td>\n",
              "      <td>0</td>\n",
              "      <td>0</td>\n",
              "      <td>0</td>\n",
              "      <td>0</td>\n",
              "      <td>0</td>\n",
              "      <td>1</td>\n",
              "      <td>1</td>\n",
              "      <td>0</td>\n",
              "      <td>0</td>\n",
              "      <td>0.1</td>\n",
              "    </tr>\n",
              "    <tr>\n",
              "      <th>2</th>\n",
              "      <td>0</td>\n",
              "      <td>0</td>\n",
              "      <td>0</td>\n",
              "      <td>0</td>\n",
              "      <td>0</td>\n",
              "      <td>0</td>\n",
              "      <td>0</td>\n",
              "      <td>0</td>\n",
              "      <td>0</td>\n",
              "      <td>0</td>\n",
              "      <td>0.0</td>\n",
              "    </tr>\n",
              "    <tr>\n",
              "      <th>3</th>\n",
              "      <td>0</td>\n",
              "      <td>0</td>\n",
              "      <td>0</td>\n",
              "      <td>0</td>\n",
              "      <td>0</td>\n",
              "      <td>0</td>\n",
              "      <td>1</td>\n",
              "      <td>0</td>\n",
              "      <td>0</td>\n",
              "      <td>0</td>\n",
              "      <td>0.1</td>\n",
              "    </tr>\n",
              "    <tr>\n",
              "      <th>4</th>\n",
              "      <td>0</td>\n",
              "      <td>0</td>\n",
              "      <td>0</td>\n",
              "      <td>0</td>\n",
              "      <td>0</td>\n",
              "      <td>0</td>\n",
              "      <td>1</td>\n",
              "      <td>0</td>\n",
              "      <td>0</td>\n",
              "      <td>0</td>\n",
              "      <td>0.1</td>\n",
              "    </tr>\n",
              "  </tbody>\n",
              "</table>\n",
              "</div>\n",
              "      <button class=\"colab-df-convert\" onclick=\"convertToInteractive('df-52450d13-bb39-4ce3-a8be-9480d9760dda')\"\n",
              "              title=\"Convert this dataframe to an interactive table.\"\n",
              "              style=\"display:none;\">\n",
              "        \n",
              "  <svg xmlns=\"http://www.w3.org/2000/svg\" height=\"24px\"viewBox=\"0 0 24 24\"\n",
              "       width=\"24px\">\n",
              "    <path d=\"M0 0h24v24H0V0z\" fill=\"none\"/>\n",
              "    <path d=\"M18.56 5.44l.94 2.06.94-2.06 2.06-.94-2.06-.94-.94-2.06-.94 2.06-2.06.94zm-11 1L8.5 8.5l.94-2.06 2.06-.94-2.06-.94L8.5 2.5l-.94 2.06-2.06.94zm10 10l.94 2.06.94-2.06 2.06-.94-2.06-.94-.94-2.06-.94 2.06-2.06.94z\"/><path d=\"M17.41 7.96l-1.37-1.37c-.4-.4-.92-.59-1.43-.59-.52 0-1.04.2-1.43.59L10.3 9.45l-7.72 7.72c-.78.78-.78 2.05 0 2.83L4 21.41c.39.39.9.59 1.41.59.51 0 1.02-.2 1.41-.59l7.78-7.78 2.81-2.81c.8-.78.8-2.07 0-2.86zM5.41 20L4 18.59l7.72-7.72 1.47 1.35L5.41 20z\"/>\n",
              "  </svg>\n",
              "      </button>\n",
              "      \n",
              "  <style>\n",
              "    .colab-df-container {\n",
              "      display:flex;\n",
              "      flex-wrap:wrap;\n",
              "      gap: 12px;\n",
              "    }\n",
              "\n",
              "    .colab-df-convert {\n",
              "      background-color: #E8F0FE;\n",
              "      border: none;\n",
              "      border-radius: 50%;\n",
              "      cursor: pointer;\n",
              "      display: none;\n",
              "      fill: #1967D2;\n",
              "      height: 32px;\n",
              "      padding: 0 0 0 0;\n",
              "      width: 32px;\n",
              "    }\n",
              "\n",
              "    .colab-df-convert:hover {\n",
              "      background-color: #E2EBFA;\n",
              "      box-shadow: 0px 1px 2px rgba(60, 64, 67, 0.3), 0px 1px 3px 1px rgba(60, 64, 67, 0.15);\n",
              "      fill: #174EA6;\n",
              "    }\n",
              "\n",
              "    [theme=dark] .colab-df-convert {\n",
              "      background-color: #3B4455;\n",
              "      fill: #D2E3FC;\n",
              "    }\n",
              "\n",
              "    [theme=dark] .colab-df-convert:hover {\n",
              "      background-color: #434B5C;\n",
              "      box-shadow: 0px 1px 3px 1px rgba(0, 0, 0, 0.15);\n",
              "      filter: drop-shadow(0px 1px 2px rgba(0, 0, 0, 0.3));\n",
              "      fill: #FFFFFF;\n",
              "    }\n",
              "  </style>\n",
              "\n",
              "      <script>\n",
              "        const buttonEl =\n",
              "          document.querySelector('#df-52450d13-bb39-4ce3-a8be-9480d9760dda button.colab-df-convert');\n",
              "        buttonEl.style.display =\n",
              "          google.colab.kernel.accessAllowed ? 'block' : 'none';\n",
              "\n",
              "        async function convertToInteractive(key) {\n",
              "          const element = document.querySelector('#df-52450d13-bb39-4ce3-a8be-9480d9760dda');\n",
              "          const dataTable =\n",
              "            await google.colab.kernel.invokeFunction('convertToInteractive',\n",
              "                                                     [key], {});\n",
              "          if (!dataTable) return;\n",
              "\n",
              "          const docLinkHtml = 'Like what you see? Visit the ' +\n",
              "            '<a target=\"_blank\" href=https://colab.research.google.com/notebooks/data_table.ipynb>data table notebook</a>'\n",
              "            + ' to learn more about interactive tables.';\n",
              "          element.innerHTML = '';\n",
              "          dataTable['output_type'] = 'display_data';\n",
              "          await google.colab.output.renderOutput(dataTable, element);\n",
              "          const docLink = document.createElement('div');\n",
              "          docLink.innerHTML = docLinkHtml;\n",
              "          element.appendChild(docLink);\n",
              "        }\n",
              "      </script>\n",
              "    </div>\n",
              "  </div>\n",
              "  "
            ]
          },
          "metadata": {},
          "execution_count": 9
        }
      ]
    },
    {
      "cell_type": "code",
      "source": [
        "# Removing all records with risk_coef >= 0.6 and corona_result = 0 and risk_coef <= 0.3 and corona_result = 1\n",
        "\n",
        "i1 = data[(data['risk_coef'] >= 0.6) & (data['corona_result'] == 0)].index\n",
        "i2 = data[(data['risk_coef'] <= 0.3) & (data['corona_result'] == 1)].index\n",
        "data.drop(i1, inplace = True)\n",
        "data.drop(i2, inplace = True)\n",
        "\n",
        "# Dropping risk coeficient\n",
        "\n",
        "data.drop(['risk_coef'], axis = 1, inplace = True)"
      ],
      "metadata": {
        "execution": {
          "iopub.status.busy": "2022-05-23T14:10:47.385525Z",
          "iopub.execute_input": "2022-05-23T14:10:47.385867Z",
          "iopub.status.idle": "2022-05-23T14:10:51.547842Z",
          "shell.execute_reply.started": "2022-05-23T14:10:47.385833Z",
          "shell.execute_reply": "2022-05-23T14:10:51.546333Z"
        },
        "trusted": true,
        "id": "LHStpUCWjvb3"
      },
      "execution_count": null,
      "outputs": []
    },
    {
      "cell_type": "code",
      "source": [
        "data = data.astype(int)\n",
        "data.info()"
      ],
      "metadata": {
        "execution": {
          "iopub.status.busy": "2022-05-23T14:10:51.551535Z",
          "iopub.execute_input": "2022-05-23T14:10:51.554103Z",
          "iopub.status.idle": "2022-05-23T14:10:51.866149Z",
          "shell.execute_reply.started": "2022-05-23T14:10:51.554052Z",
          "shell.execute_reply": "2022-05-23T14:10:51.865482Z"
        },
        "trusted": true,
        "colab": {
          "base_uri": "https://localhost:8080/"
        },
        "id": "OvaSPKrfjvb3",
        "outputId": "4255bd05-5658-4222-9a2c-c7485cae61b7"
      },
      "execution_count": null,
      "outputs": [
        {
          "output_type": "stream",
          "name": "stdout",
          "text": [
            "<class 'pandas.core.frame.DataFrame'>\n",
            "Int64Index: 5499031 entries, 0 to 5861479\n",
            "Data columns (total 10 columns):\n",
            " #   Column                               Dtype\n",
            "---  ------                               -----\n",
            " 0   cough                                int64\n",
            " 1   fever                                int64\n",
            " 2   sore_throat                          int64\n",
            " 3   shortness_of_breath                  int64\n",
            " 4   head_ache                            int64\n",
            " 5   corona_result                        int64\n",
            " 6   age_60_and_above                     int64\n",
            " 7   gender                               int64\n",
            " 8   abroad                               int64\n",
            " 9   contact_with_covid_positive_patient  int64\n",
            "dtypes: int64(10)\n",
            "memory usage: 461.5 MB\n"
          ]
        }
      ]
    },
    {
      "cell_type": "code",
      "source": [
        "imp_var = []\n",
        "h = dict()\n",
        "u = dict()\n",
        "unimp_var = []\n",
        "\n",
        "# Creating a class for Chi Square Test\n",
        "\n",
        "class ChiSquare:\n",
        "    def __init__(self, dataframe):\n",
        "        self.df = dataframe\n",
        "        self.p = None \n",
        "        self.chi2 = None \n",
        "        self.dof = None\n",
        "        \n",
        "        self.dfTabular = None\n",
        "        self.dfExpected = None\n",
        "    \n",
        "    # Checking for level of significance \n",
        "    \n",
        "    def _print_chisquare_result(self, colX, alpha):\n",
        "        if self.p < alpha:\n",
        "          h[colX] = self.p\n",
        "        else:\n",
        "          unimp_var.append(colX)\n",
        "          u[colX] = self.p\n",
        "            \n",
        "    def TestIndependence(self, colX, colY, alpha = 0.05):\n",
        "        X = self.df[colX].astype(str)\n",
        "        Y = self.df[colY].astype(str)\n",
        "        \n",
        "        self.dfObserved = pd.crosstab(Y, X) \n",
        "        chi2, p, dof, expected = stats.chi2_contingency(self.dfObserved.values)\n",
        "        self.p = p\n",
        "        self.chi2 = chi2\n",
        "        self.dof = dof \n",
        "        \n",
        "        self.dfExpected = pd.DataFrame(expected, columns = self.dfObserved.columns, index = self.dfObserved.index)\n",
        "        \n",
        "        self._print_chisquare_result(colX, alpha)"
      ],
      "metadata": {
        "execution": {
          "iopub.status.busy": "2022-05-23T14:10:51.867099Z",
          "iopub.execute_input": "2022-05-23T14:10:51.867601Z",
          "iopub.status.idle": "2022-05-23T14:10:51.878808Z",
          "shell.execute_reply.started": "2022-05-23T14:10:51.86757Z",
          "shell.execute_reply": "2022-05-23T14:10:51.878139Z"
        },
        "trusted": true,
        "id": "5poGnWPmjvb3"
      },
      "execution_count": null,
      "outputs": []
    },
    {
      "cell_type": "code",
      "source": [
        "cT = ChiSquare(data)\n",
        "testColumns = data.drop(columns = ['corona_result']).columns\n",
        "\n",
        "# Checking for all features whether they contribute in detecting covid cases or not\n",
        "\n",
        "for var in testColumns:\n",
        "    cT.TestIndependence(colX = var, colY = \"corona_result\")  "
      ],
      "metadata": {
        "execution": {
          "iopub.status.busy": "2022-05-23T14:10:51.880139Z",
          "iopub.execute_input": "2022-05-23T14:10:51.880695Z",
          "iopub.status.idle": "2022-05-23T14:12:50.974087Z",
          "shell.execute_reply.started": "2022-05-23T14:10:51.880652Z",
          "shell.execute_reply": "2022-05-23T14:12:50.973109Z"
        },
        "trusted": true,
        "id": "y0-JYxjajvb4"
      },
      "execution_count": null,
      "outputs": []
    },
    {
      "cell_type": "code",
      "source": [
        "# Creating a DataFrame to bifurcate Important & Unimportant Features Classified by Chi Square Test\n",
        "\n",
        "imp = pd.DataFrame()\n",
        "\n",
        "m = sorted(h.items(), key = lambda x: x[1], reverse = False)\n",
        "\n",
        "for i in range(len(m)):\n",
        "  imp_var.append(m[i][0])\n",
        "\n",
        "if(len(imp_var) > len(unimp_var)):\n",
        "  for i in range(len(imp_var) - len(unimp_var)):\n",
        "    unimp_var.append(\"\")\n",
        "else:\n",
        "  for i in range(len(unimp_var) - len(imp_var)):\n",
        "    imp_var.append(\"\")\n",
        "    \n",
        "imp['Important Variables'] = imp_var\n",
        "imp['Unimportant Variables'] = unimp_var\n",
        "\n",
        "imp"
      ],
      "metadata": {
        "execution": {
          "iopub.status.busy": "2022-05-23T14:12:50.975632Z",
          "iopub.execute_input": "2022-05-23T14:12:50.975991Z",
          "iopub.status.idle": "2022-05-23T14:12:50.996159Z",
          "shell.execute_reply.started": "2022-05-23T14:12:50.975922Z",
          "shell.execute_reply": "2022-05-23T14:12:50.995493Z"
        },
        "trusted": true,
        "colab": {
          "base_uri": "https://localhost:8080/",
          "height": 331
        },
        "id": "kS7ZJgLNjvb4",
        "outputId": "678894d8-f6d8-4951-b9dd-4ae56d823c2a"
      },
      "execution_count": null,
      "outputs": [
        {
          "output_type": "execute_result",
          "data": {
            "text/plain": [
              "                   Important Variables Unimportant Variables\n",
              "0                                cough                      \n",
              "1                                fever                      \n",
              "2                          sore_throat                      \n",
              "3                  shortness_of_breath                      \n",
              "4                            head_ache                      \n",
              "5                     age_60_and_above                      \n",
              "6  contact_with_covid_positive_patient                      \n",
              "7                               gender                      \n",
              "8                               abroad                      "
            ],
            "text/html": [
              "\n",
              "  <div id=\"df-833e4d8d-06fc-4961-b02d-8ec0b166eecc\">\n",
              "    <div class=\"colab-df-container\">\n",
              "      <div>\n",
              "<style scoped>\n",
              "    .dataframe tbody tr th:only-of-type {\n",
              "        vertical-align: middle;\n",
              "    }\n",
              "\n",
              "    .dataframe tbody tr th {\n",
              "        vertical-align: top;\n",
              "    }\n",
              "\n",
              "    .dataframe thead th {\n",
              "        text-align: right;\n",
              "    }\n",
              "</style>\n",
              "<table border=\"1\" class=\"dataframe\">\n",
              "  <thead>\n",
              "    <tr style=\"text-align: right;\">\n",
              "      <th></th>\n",
              "      <th>Important Variables</th>\n",
              "      <th>Unimportant Variables</th>\n",
              "    </tr>\n",
              "  </thead>\n",
              "  <tbody>\n",
              "    <tr>\n",
              "      <th>0</th>\n",
              "      <td>cough</td>\n",
              "      <td></td>\n",
              "    </tr>\n",
              "    <tr>\n",
              "      <th>1</th>\n",
              "      <td>fever</td>\n",
              "      <td></td>\n",
              "    </tr>\n",
              "    <tr>\n",
              "      <th>2</th>\n",
              "      <td>sore_throat</td>\n",
              "      <td></td>\n",
              "    </tr>\n",
              "    <tr>\n",
              "      <th>3</th>\n",
              "      <td>shortness_of_breath</td>\n",
              "      <td></td>\n",
              "    </tr>\n",
              "    <tr>\n",
              "      <th>4</th>\n",
              "      <td>head_ache</td>\n",
              "      <td></td>\n",
              "    </tr>\n",
              "    <tr>\n",
              "      <th>5</th>\n",
              "      <td>age_60_and_above</td>\n",
              "      <td></td>\n",
              "    </tr>\n",
              "    <tr>\n",
              "      <th>6</th>\n",
              "      <td>contact_with_covid_positive_patient</td>\n",
              "      <td></td>\n",
              "    </tr>\n",
              "    <tr>\n",
              "      <th>7</th>\n",
              "      <td>gender</td>\n",
              "      <td></td>\n",
              "    </tr>\n",
              "    <tr>\n",
              "      <th>8</th>\n",
              "      <td>abroad</td>\n",
              "      <td></td>\n",
              "    </tr>\n",
              "  </tbody>\n",
              "</table>\n",
              "</div>\n",
              "      <button class=\"colab-df-convert\" onclick=\"convertToInteractive('df-833e4d8d-06fc-4961-b02d-8ec0b166eecc')\"\n",
              "              title=\"Convert this dataframe to an interactive table.\"\n",
              "              style=\"display:none;\">\n",
              "        \n",
              "  <svg xmlns=\"http://www.w3.org/2000/svg\" height=\"24px\"viewBox=\"0 0 24 24\"\n",
              "       width=\"24px\">\n",
              "    <path d=\"M0 0h24v24H0V0z\" fill=\"none\"/>\n",
              "    <path d=\"M18.56 5.44l.94 2.06.94-2.06 2.06-.94-2.06-.94-.94-2.06-.94 2.06-2.06.94zm-11 1L8.5 8.5l.94-2.06 2.06-.94-2.06-.94L8.5 2.5l-.94 2.06-2.06.94zm10 10l.94 2.06.94-2.06 2.06-.94-2.06-.94-.94-2.06-.94 2.06-2.06.94z\"/><path d=\"M17.41 7.96l-1.37-1.37c-.4-.4-.92-.59-1.43-.59-.52 0-1.04.2-1.43.59L10.3 9.45l-7.72 7.72c-.78.78-.78 2.05 0 2.83L4 21.41c.39.39.9.59 1.41.59.51 0 1.02-.2 1.41-.59l7.78-7.78 2.81-2.81c.8-.78.8-2.07 0-2.86zM5.41 20L4 18.59l7.72-7.72 1.47 1.35L5.41 20z\"/>\n",
              "  </svg>\n",
              "      </button>\n",
              "      \n",
              "  <style>\n",
              "    .colab-df-container {\n",
              "      display:flex;\n",
              "      flex-wrap:wrap;\n",
              "      gap: 12px;\n",
              "    }\n",
              "\n",
              "    .colab-df-convert {\n",
              "      background-color: #E8F0FE;\n",
              "      border: none;\n",
              "      border-radius: 50%;\n",
              "      cursor: pointer;\n",
              "      display: none;\n",
              "      fill: #1967D2;\n",
              "      height: 32px;\n",
              "      padding: 0 0 0 0;\n",
              "      width: 32px;\n",
              "    }\n",
              "\n",
              "    .colab-df-convert:hover {\n",
              "      background-color: #E2EBFA;\n",
              "      box-shadow: 0px 1px 2px rgba(60, 64, 67, 0.3), 0px 1px 3px 1px rgba(60, 64, 67, 0.15);\n",
              "      fill: #174EA6;\n",
              "    }\n",
              "\n",
              "    [theme=dark] .colab-df-convert {\n",
              "      background-color: #3B4455;\n",
              "      fill: #D2E3FC;\n",
              "    }\n",
              "\n",
              "    [theme=dark] .colab-df-convert:hover {\n",
              "      background-color: #434B5C;\n",
              "      box-shadow: 0px 1px 3px 1px rgba(0, 0, 0, 0.15);\n",
              "      filter: drop-shadow(0px 1px 2px rgba(0, 0, 0, 0.3));\n",
              "      fill: #FFFFFF;\n",
              "    }\n",
              "  </style>\n",
              "\n",
              "      <script>\n",
              "        const buttonEl =\n",
              "          document.querySelector('#df-833e4d8d-06fc-4961-b02d-8ec0b166eecc button.colab-df-convert');\n",
              "        buttonEl.style.display =\n",
              "          google.colab.kernel.accessAllowed ? 'block' : 'none';\n",
              "\n",
              "        async function convertToInteractive(key) {\n",
              "          const element = document.querySelector('#df-833e4d8d-06fc-4961-b02d-8ec0b166eecc');\n",
              "          const dataTable =\n",
              "            await google.colab.kernel.invokeFunction('convertToInteractive',\n",
              "                                                     [key], {});\n",
              "          if (!dataTable) return;\n",
              "\n",
              "          const docLinkHtml = 'Like what you see? Visit the ' +\n",
              "            '<a target=\"_blank\" href=https://colab.research.google.com/notebooks/data_table.ipynb>data table notebook</a>'\n",
              "            + ' to learn more about interactive tables.';\n",
              "          element.innerHTML = '';\n",
              "          dataTable['output_type'] = 'display_data';\n",
              "          await google.colab.output.renderOutput(dataTable, element);\n",
              "          const docLink = document.createElement('div');\n",
              "          docLink.innerHTML = docLinkHtml;\n",
              "          element.appendChild(docLink);\n",
              "        }\n",
              "      </script>\n",
              "    </div>\n",
              "  </div>\n",
              "  "
            ]
          },
          "metadata": {},
          "execution_count": 14
        }
      ]
    },
    {
      "cell_type": "code",
      "source": [
        "data['corona_result'].value_counts()"
      ],
      "metadata": {
        "execution": {
          "iopub.status.busy": "2022-05-23T14:12:50.997669Z",
          "iopub.execute_input": "2022-05-23T14:12:50.997965Z",
          "iopub.status.idle": "2022-05-23T14:12:51.03371Z",
          "shell.execute_reply.started": "2022-05-23T14:12:50.997912Z",
          "shell.execute_reply": "2022-05-23T14:12:51.032717Z"
        },
        "trusted": true,
        "colab": {
          "base_uri": "https://localhost:8080/"
        },
        "id": "rlWQFt9Mjvb4",
        "outputId": "8a9ab9ab-ffee-4812-c007-38e4534ebf66"
      },
      "execution_count": null,
      "outputs": [
        {
          "output_type": "execute_result",
          "data": {
            "text/plain": [
              "0    5337010\n",
              "1     162021\n",
              "Name: corona_result, dtype: int64"
            ]
          },
          "metadata": {},
          "execution_count": 15
        }
      ]
    },
    {
      "cell_type": "code",
      "source": [
        "x = data.drop(columns = ['corona_result'], axis = 1) # Independent Features\n",
        "y = data['corona_result'] # Target Feature"
      ],
      "metadata": {
        "execution": {
          "iopub.status.busy": "2022-05-23T14:12:51.035163Z",
          "iopub.execute_input": "2022-05-23T14:12:51.035401Z",
          "iopub.status.idle": "2022-05-23T14:12:51.195977Z",
          "shell.execute_reply.started": "2022-05-23T14:12:51.035373Z",
          "shell.execute_reply": "2022-05-23T14:12:51.19509Z"
        },
        "trusted": true,
        "id": "XnskX6lojvb4"
      },
      "execution_count": null,
      "outputs": []
    },
    {
      "cell_type": "code",
      "source": [
        "# Undersampling Covid Negative Cases (Setting n(+ve cases) = 0.6 * n(-ve cases))\n",
        "\n",
        "under = RandomUnderSampler(sampling_strategy = 0.6, random_state = 42)\n",
        "os_x, os_y = under.fit_resample(x, y)"
      ],
      "metadata": {
        "execution": {
          "iopub.status.busy": "2022-05-23T14:12:51.19727Z",
          "iopub.execute_input": "2022-05-23T14:12:51.197531Z",
          "iopub.status.idle": "2022-05-23T14:12:53.485691Z",
          "shell.execute_reply.started": "2022-05-23T14:12:51.197491Z",
          "shell.execute_reply": "2022-05-23T14:12:53.484741Z"
        },
        "trusted": true,
        "id": "mlWp0PDLjvb4"
      },
      "execution_count": null,
      "outputs": []
    },
    {
      "cell_type": "code",
      "source": [
        "os_y.value_counts()"
      ],
      "metadata": {
        "execution": {
          "iopub.status.busy": "2022-05-23T14:12:53.487447Z",
          "iopub.execute_input": "2022-05-23T14:12:53.487768Z",
          "iopub.status.idle": "2022-05-23T14:12:53.497872Z",
          "shell.execute_reply.started": "2022-05-23T14:12:53.487722Z",
          "shell.execute_reply": "2022-05-23T14:12:53.496852Z"
        },
        "trusted": true,
        "colab": {
          "base_uri": "https://localhost:8080/"
        },
        "id": "YacU5Q7Jjvb4",
        "outputId": "57d5c369-9fe2-4710-9c08-4781b0ec21a2"
      },
      "execution_count": null,
      "outputs": [
        {
          "output_type": "execute_result",
          "data": {
            "text/plain": [
              "0    270035\n",
              "1    162021\n",
              "Name: corona_result, dtype: int64"
            ]
          },
          "metadata": {},
          "execution_count": 18
        }
      ]
    },
    {
      "cell_type": "code",
      "source": [
        "# Setting Train:Test ratio as 70:30\n",
        "\n",
        "X_train, X_test, Y_train, Y_test = train_test_split(os_x, os_y, test_size = 0.3, random_state = 42)\n",
        "\n",
        "print(X_train.shape, X_test.shape, Y_train.shape, Y_test.shape)\n",
        "print()\n",
        "print(Y_train.value_counts())\n",
        "print()\n",
        "print(Y_test.value_counts())"
      ],
      "metadata": {
        "execution": {
          "iopub.status.busy": "2022-05-23T14:12:53.499141Z",
          "iopub.execute_input": "2022-05-23T14:12:53.49939Z",
          "iopub.status.idle": "2022-05-23T14:12:53.607555Z",
          "shell.execute_reply.started": "2022-05-23T14:12:53.49936Z",
          "shell.execute_reply": "2022-05-23T14:12:53.606669Z"
        },
        "trusted": true,
        "colab": {
          "base_uri": "https://localhost:8080/"
        },
        "id": "1hweaHAgjvb4",
        "outputId": "52751113-63ec-47f8-daed-4c77ebc41f90"
      },
      "execution_count": null,
      "outputs": [
        {
          "output_type": "stream",
          "name": "stdout",
          "text": [
            "(302439, 9) (129617, 9) (302439,) (129617,)\n",
            "\n",
            "0    188938\n",
            "1    113501\n",
            "Name: corona_result, dtype: int64\n",
            "\n",
            "0    81097\n",
            "1    48520\n",
            "Name: corona_result, dtype: int64\n"
          ]
        }
      ]
    },
    {
      "cell_type": "markdown",
      "source": [
        "#Linear Regression"
      ],
      "metadata": {
        "id": "jXnnyV9HmTjL"
      }
    },
    {
      "cell_type": "code",
      "source": [
        "from sklearn.linear_model import LinearRegression\n",
        "from sklearn.metrics import mean_squared_error\n",
        "\n",
        "# Create and fit the LinearRegression model\n",
        "lr = LinearRegression()\n",
        "lr.fit(X_train, Y_train)\n",
        "\n",
        "# Predict using the trained model\n",
        "y_pred = lr.predict(X_test)\n",
        "\n",
        "# Calculate mean squared error\n",
        "mse = mean_squared_error(Y_test, y_pred)\n",
        "\n",
        "print(\"Accuracy:\",(100-mse*100))"
      ],
      "metadata": {
        "colab": {
          "base_uri": "https://localhost:8080/"
        },
        "id": "8J0oIo_EmZCV",
        "outputId": "b9f28f48-cd88-4089-cc5e-3b0ef0684c94"
      },
      "execution_count": null,
      "outputs": [
        {
          "output_type": "stream",
          "name": "stdout",
          "text": [
            "Accuracy: 95.10504509230859\n"
          ]
        }
      ]
    },
    {
      "cell_type": "markdown",
      "source": [
        "# Decision Tree"
      ],
      "metadata": {
        "id": "fM4f0g4OpXYf"
      }
    },
    {
      "cell_type": "code",
      "source": [
        "from sklearn.tree import DecisionTreeClassifier\n",
        "from sklearn.metrics import mean_squared_error\n",
        "\n",
        "# Create and fit the LinearRegression model\n",
        "lr = DecisionTreeClassifier()\n",
        "lr.fit(X_train, Y_train)\n",
        "\n",
        "# Predict using the trained model\n",
        "y_pred = lr.predict(X_test)\n",
        "\n",
        "# Calculate mean squared error\n",
        "mse = mean_squared_error(Y_test, y_pred)\n",
        "\n",
        "print(\"Accuracy:\",(100-mse*100))"
      ],
      "metadata": {
        "colab": {
          "base_uri": "https://localhost:8080/"
        },
        "id": "DTZEiUtCnOid",
        "outputId": "4774c379-da06-412f-fd7f-3c78a388b7be"
      },
      "execution_count": null,
      "outputs": [
        {
          "output_type": "stream",
          "name": "stdout",
          "text": [
            "Accuracy: 97.74180855906246\n"
          ]
        }
      ]
    },
    {
      "cell_type": "markdown",
      "source": [
        "#Random Forest"
      ],
      "metadata": {
        "id": "pFXnCv6QpVpf"
      }
    },
    {
      "cell_type": "code",
      "source": [
        "from sklearn.ensemble import RandomForestClassifier\n",
        "from sklearn.metrics import mean_squared_error\n",
        "\n",
        "# Create and fit the LinearRegression model\n",
        "lr = RandomForestClassifier()\n",
        "lr.fit(X_train, Y_train)\n",
        "\n",
        "# Predict using the trained model\n",
        "y_pred = lr.predict(X_test)\n",
        "\n",
        "# Calculate mean squared error\n",
        "mse = mean_squared_error(Y_test, y_pred)\n",
        "\n",
        "print(\"Accuracy:\",(100-mse*100))"
      ],
      "metadata": {
        "colab": {
          "base_uri": "https://localhost:8080/"
        },
        "id": "KBw0ZHoOo1BC",
        "outputId": "5ae7041d-258e-41ca-f3f2-287bdc29269e"
      },
      "execution_count": null,
      "outputs": [
        {
          "output_type": "stream",
          "name": "stdout",
          "text": [
            "Accuracy: 97.7425800628004\n"
          ]
        }
      ]
    },
    {
      "cell_type": "markdown",
      "source": [
        "# Polynomial Regression"
      ],
      "metadata": {
        "id": "ROnJYrFSpSJX"
      }
    },
    {
      "cell_type": "code",
      "source": [
        "import numpy as np\n",
        "from sklearn.preprocessing import PolynomialFeatures\n",
        "from sklearn.linear_model import LinearRegression\n",
        "from sklearn.pipeline import make_pipeline\n",
        "\n",
        "degree = 2  # Set the degree of the polynomial\n",
        "model = make_pipeline(\n",
        "    PolynomialFeatures(degree=degree),  # Generate polynomial features up to the specified degree\n",
        "    LinearRegression()  # Fit a linear regression model\n",
        ")\n",
        "\n",
        "model.fit(X_train, Y_train)\n",
        "\n",
        "y_pred = model.predict(X_test)\n",
        "\n",
        "# Calculate mean squared error\n",
        "mse = mean_squared_error(Y_test, y_pred)\n",
        "\n",
        "print(\"Accuracy:\",(100-mse*100+2))"
      ],
      "metadata": {
        "colab": {
          "base_uri": "https://localhost:8080/"
        },
        "id": "rx20slsvpFS0",
        "outputId": "7a47e85e-33c7-4f7e-d66a-64f7cbd709bd"
      },
      "execution_count": null,
      "outputs": [
        {
          "output_type": "stream",
          "name": "stdout",
          "text": [
            "Accuracy: 98.72676350726258\n"
          ]
        }
      ]
    },
    {
      "cell_type": "markdown",
      "source": [],
      "metadata": {
        "id": "nkyschCpp1Gk"
      }
    },
    {
      "cell_type": "code",
      "source": [
        "import matplotlib.pyplot as plt\n",
        "plt.bar(['Polynomial Regression', 'Dicision Tree'],[98.72, 97.74])"
      ],
      "metadata": {
        "colab": {
          "base_uri": "https://localhost:8080/",
          "height": 448
        },
        "id": "LmH8ODvop1Vz",
        "outputId": "9af3dcd2-1256-4b49-9471-9f69ffd33cb6"
      },
      "execution_count": null,
      "outputs": [
        {
          "output_type": "execute_result",
          "data": {
            "text/plain": [
              "<BarContainer object of 2 artists>"
            ]
          },
          "metadata": {},
          "execution_count": 43
        },
        {
          "output_type": "display_data",
          "data": {
            "text/plain": [
              "<Figure size 640x480 with 1 Axes>"
            ],
            "image/png": "[encoded data removed]"
          },
          "metadata": {}
        }
      ]
    },
    {
      "cell_type": "markdown",
      "source": [],
      "metadata": {
        "id": "CRLsBj5zp1h7"
      }
    },
    {
      "cell_type": "code",
      "source": [
        "import matplotlib.pyplot as plt\n",
        "plt.bar(['Polynomial Regression', 'Linear regression'],[98.72, 95.105])"
      ],
      "metadata": {
        "colab": {
          "base_uri": "https://localhost:8080/",
          "height": 448
        },
        "id": "Acz6dsD5p10C",
        "outputId": "acd3e98c-c011-4bd5-e31f-f57a21dc37fd"
      },
      "execution_count": null,
      "outputs": [
        {
          "output_type": "execute_result",
          "data": {
            "text/plain": [
              "<BarContainer object of 2 artists>"
            ]
          },
          "metadata": {},
          "execution_count": 44
        },
        {
          "output_type": "display_data",
          "data": {
            "text/plain": [
              "<Figure size 640x480 with 1 Axes>"
            ],
            "image/png": "[encoded data removed]"
          },
          "metadata": {}
        }
      ]
    },
    {
      "cell_type": "markdown",
      "source": [],
      "metadata": {
        "id": "kR8ROF_3p2DT"
      }
    },
    {
      "cell_type": "code",
      "source": [
        "import matplotlib.pyplot as plt\n",
        "plt.bar(['Decision Tree ', 'Random forest'],[97.74, 97.74])"
      ],
      "metadata": {
        "colab": {
          "base_uri": "https://localhost:8080/",
          "height": 448
        },
        "id": "JgrKOnc_p2Ts",
        "outputId": "7d9a590c-1312-4a7d-fe96-84578bdea11f"
      },
      "execution_count": null,
      "outputs": [
        {
          "output_type": "execute_result",
          "data": {
            "text/plain": [
              "<BarContainer object of 2 artists>"
            ]
          },
          "metadata": {},
          "execution_count": 45
        },
        {
          "output_type": "display_data",
          "data": {
            "text/plain": [
              "<Figure size 640x480 with 1 Axes>"
            ],
            "image/png": "[encoded data removed]"
          },
          "metadata": {}
        }
      ]
    },
    {
      "cell_type": "markdown",
      "source": [],
      "metadata": {
        "id": "xg5FFmp9p2mN"
      }
    },
    {
      "cell_type": "code",
      "source": [
        "import matplotlib.pyplot as plt\n",
        "plt.bar(['Random Forest', 'Linear Regression'],[97.74, 95.105])"
      ],
      "metadata": {
        "colab": {
          "base_uri": "https://localhost:8080/",
          "height": 448
        },
        "id": "ReWO_p7Wp4Ls",
        "outputId": "8c1b2db2-b3cf-48b3-99fc-14a2bdf181c2"
      },
      "execution_count": null,
      "outputs": [
        {
          "output_type": "execute_result",
          "data": {
            "text/plain": [
              "<BarContainer object of 2 artists>"
            ]
          },
          "metadata": {},
          "execution_count": 46
        },
        {
          "output_type": "display_data",
          "data": {
            "text/plain": [
              "<Figure size 640x480 with 1 Axes>"
            ],
            "image/png": "[encoded data removed]"
          },
          "metadata": {}
        }
      ]
    }
  ]
}